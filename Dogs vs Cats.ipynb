{
 "cells": [
  {
   "cell_type": "markdown",
   "metadata": {},
   "source": [
    "## Importing required Libraries"
   ]
  },
  {
   "cell_type": "code",
   "execution_count": 2,
   "metadata": {},
   "outputs": [],
   "source": [
    "import numpy as np \n",
    "import pandas as pd \n",
    "import os\n",
    "import h5py\n",
    "import cv2\n",
    "from keras import Sequential\n",
    "from keras.layers import Dense,MaxPooling2D,Conv2D,Flatten,Dropout"
   ]
  },
  {
   "cell_type": "markdown",
   "metadata": {},
   "source": [
    "## Retreive image"
   ]
  },
  {
   "cell_type": "code",
   "execution_count": 4,
   "metadata": {},
   "outputs": [],
   "source": [
    "path=r\"..Path/train\"\n",
    "label=[]\n",
    "data1=[]\n",
    "for file in os.listdir(path):\n",
    "    image_data=cv2.imread(os.path.join(path,file), cv2.IMREAD_GRAYSCALE)\n",
    "    image_data=cv2.resize(image_data,(96,96))\n",
    "    if file.startswith(\"cat\"):\n",
    "        label.append(0)\n",
    "    elif file.startswith(\"dog\"):\n",
    "        label.append(1)\n",
    "    try:\n",
    "        data1.append(image_data/255)\n",
    "    except:\n",
    "        label=label[:len(label)-1]"
   ]
  },
  {
   "cell_type": "markdown",
   "metadata": {},
   "source": [
    "## Model Selection"
   ]
  },
  {
   "cell_type": "code",
   "execution_count": 59,
   "metadata": {},
   "outputs": [
    {
     "name": "stdout",
     "output_type": "stream",
     "text": [
      "_________________________________________________________________\n",
      "Layer (type)                 Output Shape              Param #   \n",
      "=================================================================\n",
      "conv2d_6 (Conv2D)            (None, 94, 94, 3)         30        \n",
      "_________________________________________________________________\n",
      "conv2d_7 (Conv2D)            (None, 94, 94, 10)        280       \n",
      "_________________________________________________________________\n",
      "max_pooling2d_3 (MaxPooling2 (None, 47, 47, 10)        0         \n",
      "_________________________________________________________________\n",
      "conv2d_8 (Conv2D)            (None, 45, 45, 3)         273       \n",
      "_________________________________________________________________\n",
      "conv2d_9 (Conv2D)            (None, 41, 41, 5)         380       \n",
      "_________________________________________________________________\n",
      "max_pooling2d_4 (MaxPooling2 (None, 20, 20, 5)         0         \n",
      "_________________________________________________________________\n",
      "conv2d_10 (Conv2D)           (None, 10, 10, 10)        210       \n",
      "_________________________________________________________________\n",
      "flatten_2 (Flatten)          (None, 1000)              0         \n",
      "_________________________________________________________________\n",
      "dropout_2 (Dropout)          (None, 1000)              0         \n",
      "_________________________________________________________________\n",
      "dense_3 (Dense)              (None, 100)               100100    \n",
      "_________________________________________________________________\n",
      "dense_4 (Dense)              (None, 1)                 101       \n",
      "=================================================================\n",
      "Total params: 101,374\n",
      "Trainable params: 101,374\n",
      "Non-trainable params: 0\n",
      "_________________________________________________________________\n"
     ]
    }
   ],
   "source": [
    "model=Sequential()\n",
    "model.add(Conv2D(kernel_size=(3,3),filters=3,input_shape=(96,96,1),activation=\"relu\"))\n",
    "model.add(Conv2D(kernel_size=(3,3),filters=10,activation=\"relu\",padding=\"same\"))\n",
    "model.add(MaxPooling2D(pool_size=(2,2),strides=(2,2)))\n",
    "model.add(Conv2D(kernel_size=(3,3),filters=3,activation=\"relu\"))\n",
    "model.add(Conv2D(kernel_size=(5,5),filters=5,activation=\"relu\"))\n",
    "model.add(MaxPooling2D(pool_size=(3,3),strides=(2,2)))\n",
    "model.add(Conv2D(kernel_size=(2,2),strides=(2,2),filters=10))\n",
    "model.add(Flatten())\n",
    "model.add(Dropout(0.3))\n",
    "model.add(Dense(100,activation=\"sigmoid\"))\n",
    "model.add(Dense(1,activation=\"sigmoid\"))\n",
    "model.summary()\n",
    "model.compile(optimizer=\"adadelta\",loss=\"binary_crossentropy\",metrics=[\"accuracy\"])"
   ]
  },
  {
   "cell_type": "markdown",
   "metadata": {},
   "source": [
    "## Image Transformation"
   ]
  },
  {
   "cell_type": "code",
   "execution_count": 60,
   "metadata": {},
   "outputs": [
    {
     "name": "stdout",
     "output_type": "stream",
     "text": [
      "(25000, 96, 96)\n"
     ]
    }
   ],
   "source": [
    "data1=np.array(data1)\n",
    "print (data1.shape)\n",
    "data1=data1.reshape((data1.shape)[0],(data1.shape)[1],(data1.shape)[2],1)/\n",
    "data1=data1/255\n",
    "labels=np.array(label)"
   ]
  },
  {
   "cell_type": "code",
   "execution_count": 61,
   "metadata": {},
   "outputs": [
    {
     "name": "stdout",
     "output_type": "stream",
     "text": [
      "(25000, 96, 96, 1)\n",
      "(25000,)\n"
     ]
    }
   ],
   "source": [
    "print (data1.shape)\n",
    "print (labels.shape)"
   ]
  },
  {
   "cell_type": "markdown",
   "metadata": {},
   "source": [
    "## Training Model"
   ]
  },
  {
   "cell_type": "code",
   "execution_count": 62,
   "metadata": {},
   "outputs": [
    {
     "name": "stdout",
     "output_type": "stream",
     "text": [
      "Train on 18750 samples, validate on 6250 samples\n",
      "Epoch 1/15\n",
      "18750/18750 [==============================] - 9s 506us/step - loss: 0.6493 - acc: 0.6059 - val_loss: 0.6548 - val_acc: 0.6262\n",
      "Epoch 2/15\n",
      "18750/18750 [==============================] - 9s 492us/step - loss: 0.5652 - acc: 0.7100 - val_loss: 0.5624 - val_acc: 0.7125\n",
      "Epoch 3/15\n",
      "18750/18750 [==============================] - 9s 495us/step - loss: 0.5268 - acc: 0.7380 - val_loss: 0.5060 - val_acc: 0.7509\n",
      "Epoch 4/15\n",
      "18750/18750 [==============================] - 9s 498us/step - loss: 0.5025 - acc: 0.7557 - val_loss: 0.4894 - val_acc: 0.7672\n",
      "Epoch 5/15\n",
      "18750/18750 [==============================] - 9s 504us/step - loss: 0.4861 - acc: 0.7684 - val_loss: 0.5086 - val_acc: 0.7488\n",
      "Epoch 6/15\n",
      "18750/18750 [==============================] - 10s 513us/step - loss: 0.4762 - acc: 0.7743 - val_loss: 0.4864 - val_acc: 0.7685\n",
      "Epoch 7/15\n",
      "18750/18750 [==============================] - 10s 517us/step - loss: 0.4674 - acc: 0.7777 - val_loss: 0.4688 - val_acc: 0.7800\n",
      "Epoch 8/15\n",
      "18750/18750 [==============================] - 10s 521us/step - loss: 0.4568 - acc: 0.7871 - val_loss: 0.4695 - val_acc: 0.7786\n",
      "Epoch 9/15\n",
      "18750/18750 [==============================] - 10s 521us/step - loss: 0.4527 - acc: 0.7902 - val_loss: 0.4648 - val_acc: 0.7853\n",
      "Epoch 10/15\n",
      "18750/18750 [==============================] - 10s 538us/step - loss: 0.4431 - acc: 0.7940 - val_loss: 0.4696 - val_acc: 0.7811\n",
      "Epoch 11/15\n",
      "18750/18750 [==============================] - 10s 541us/step - loss: 0.4359 - acc: 0.7975 - val_loss: 0.4613 - val_acc: 0.7856\n",
      "Epoch 12/15\n",
      "18750/18750 [==============================] - 10s 544us/step - loss: 0.4298 - acc: 0.8042 - val_loss: 0.4497 - val_acc: 0.7859\n",
      "Epoch 13/15\n",
      "18750/18750 [==============================] - 10s 551us/step - loss: 0.4236 - acc: 0.8079 - val_loss: 0.4591 - val_acc: 0.7904\n",
      "Epoch 14/15\n",
      "18750/18750 [==============================] - 10s 552us/step - loss: 0.4166 - acc: 0.8127 - val_loss: 0.4478 - val_acc: 0.7947\n",
      "Epoch 15/15\n",
      "18750/18750 [==============================] - 11s 570us/step - loss: 0.4087 - acc: 0.8137 - val_loss: 0.4601 - val_acc: 0.7859\n"
     ]
    }
   ],
   "source": [
    "model.fit(data1,labels,validation_split=0.25,epochs=15,batch_size=10)\n",
    "model.save_weights(\"model.h5\")"
   ]
  },
  {
   "cell_type": "markdown",
   "metadata": {},
   "source": [
    "## Prediction"
   ]
  },
  {
   "cell_type": "code",
   "execution_count": 63,
   "metadata": {},
   "outputs": [],
   "source": [
    "a=[]\n",
    "image_data=cv2.imread(os.path.join(r\"...Path\",\"2.jpg\"), cv2.IMREAD_GRAYSCALE)\n",
    "image_data=cv2.resize(image_data,(96,96))\n",
    "a.append(image_data/255)\n",
    "a_1=np.array(a)\n",
    "img_data=a_1.reshape((a_1.shape)[0],(a_1.shape)[1],(a_1.shape)[2],1)"
   ]
  },
  {
   "cell_type": "code",
   "execution_count": 67,
   "metadata": {},
   "outputs": [],
   "source": [
    "predicted_labels=model.predict(img_data)"
   ]
  },
  {
   "cell_type": "code",
   "execution_count": 72,
   "metadata": {},
   "outputs": [
    {
     "name": "stdout",
     "output_type": "stream",
     "text": [
      "['Dog']\n"
     ]
    }
   ],
   "source": [
    "labels=[\"Dog\" if value>0.5 else \"Cat\" for value in predicted_labels]\n",
    "print(labels)"
   ]
  },
  {
   "cell_type": "markdown",
   "metadata": {},
   "source": [
    " "
   ]
  }
 ],
 "metadata": {
  "kernelspec": {
   "display_name": "Python 3",
   "language": "python",
   "name": "python3"
  },
  "language_info": {
   "codemirror_mode": {
    "name": "ipython",
    "version": 3
   },
   "file_extension": ".py",
   "mimetype": "text/x-python",
   "name": "python",
   "nbconvert_exporter": "python",
   "pygments_lexer": "ipython3",
   "version": "3.6.5"
  }
 },
 "nbformat": 4,
 "nbformat_minor": 2
}
